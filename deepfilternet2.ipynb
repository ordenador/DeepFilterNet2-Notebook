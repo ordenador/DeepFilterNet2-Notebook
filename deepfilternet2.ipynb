{
 "cells": [
  {
   "cell_type": "code",
   "execution_count": 1,
   "metadata": {},
   "outputs": [
    {
     "name": "stdout",
     "output_type": "stream",
     "text": [
      "--2022-09-14 11:48:43--  https://github.com/Rikorose/DeepFilterNet/raw/main/models/DeepFilterNet2.zip\n",
      "Resolving github.com (github.com)... 20.201.28.151\n",
      "Connecting to github.com (github.com)|20.201.28.151|:443... connected.\n",
      "HTTP request sent, awaiting response... 302 Found\n",
      "Location: https://raw.githubusercontent.com/Rikorose/DeepFilterNet/main/models/DeepFilterNet2.zip [following]\n",
      "--2022-09-14 11:48:44--  https://raw.githubusercontent.com/Rikorose/DeepFilterNet/main/models/DeepFilterNet2.zip\n",
      "Resolving raw.githubusercontent.com (raw.githubusercontent.com)... 185.199.108.133, 185.199.109.133, 185.199.110.133, ...\n",
      "Connecting to raw.githubusercontent.com (raw.githubusercontent.com)|185.199.108.133|:443... connected.\n",
      "HTTP request sent, awaiting response... 200 OK\n",
      "Length: 8629708 (8.2M) [application/zip]\n",
      "Saving to: ‘DeepFilterNet2.zip’\n",
      "\n",
      "DeepFilterNet2.zip  100%[===================>]   8.23M  9.59MB/s    in 0.9s    \n",
      "\n",
      "2022-09-14 11:48:45 (9.59 MB/s) - ‘DeepFilterNet2.zip’ saved [8629708/8629708]\n",
      "\n",
      "Archive:  DeepFilterNet2.zip\n",
      "  inflating: models/DeepFilterNet2/config.ini  \n",
      "  inflating: models/DeepFilterNet2/checkpoints/model_96.ckpt.best  \n"
     ]
    }
   ],
   "source": [
    "!mkdir -p models\n",
    "!wget https://github.com/Rikorose/DeepFilterNet/raw/main/models/DeepFilterNet2.zip\n",
    "!unzip -o DeepFilterNet2.zip -d models\n",
    "!rm -f DeepFilterNet2.zip"
   ]
  },
  {
   "cell_type": "code",
   "execution_count": 2,
   "metadata": {},
   "outputs": [],
   "source": [
    "import torch\n",
    "from df import config\n",
    "from df.model import ModelParams\n",
    "from df.enhance import enhance, init_df, load_audio, save_audio\n",
    "import IPython.display as ipd\n",
    "from df.utils import resample"
   ]
  },
  {
   "cell_type": "code",
   "execution_count": 3,
   "metadata": {},
   "outputs": [
    {
     "name": "stdout",
     "output_type": "stream",
     "text": [
      "2022-09-14 11:48:58 | INFO     | DF | Running on torch 1.12.1\n",
      "2022-09-14 11:48:58 | INFO     | DF | Running on host MacBook-Pro-de-Mario.local\n",
      "2022-09-14 11:48:58 | INFO     | DF | Git commit: 0a93933, branch: main\n",
      "2022-09-14 11:48:58 | INFO     | DF | Loading model settings of DeepFilterNet2\n",
      "2022-09-14 11:48:58 | INFO     | DF | Initializing model `deepfilternet2`\n",
      "2022-09-14 11:48:58 | INFO     | DF | Found checkpoint ./models/DeepFilterNet2/checkpoints/model_96.ckpt.best with epoch 96\n",
      "2022-09-14 11:48:58 | WARNING  | DF | Unexpected key: erb_comp.c\n",
      "2022-09-14 11:48:58 | WARNING  | DF | Unexpected key: erb_comp.mn\n",
      "2022-09-14 11:48:58 | INFO     | DF | Model loaded\n"
     ]
    }
   ],
   "source": [
    "device = torch.device(\"cuda\" if torch.cuda.is_available() else \"cpu\")\n",
    "model, df_state, _ = init_df(\"./models/DeepFilterNet2\", config_allow_defaults=True)\n",
    "model = model.to(device=device).eval()"
   ]
  },
  {
   "cell_type": "code",
   "execution_count": 4,
   "metadata": {},
   "outputs": [],
   "source": [
    "file_input = \"audio.mp3\"\n",
    "file_output = \"audio-cleaned.wav\"\n",
    "file_input_wav = \"audio.wav\""
   ]
  },
  {
   "cell_type": "code",
   "execution_count": 5,
   "metadata": {},
   "outputs": [
    {
     "name": "stdout",
     "output_type": "stream",
     "text": [
      "ffmpeg version 5.0.1 Copyright (c) 2000-2022 the FFmpeg developers\n",
      "  built with Apple clang version 13.1.6 (clang-1316.0.21.2.5)\n",
      "  configuration: --prefix=/usr/local/Cellar/ffmpeg/5.0.1_3 --enable-shared --enable-pthreads --enable-version3 --cc=clang --host-cflags= --host-ldflags= --enable-ffplay --enable-gnutls --enable-gpl --enable-libaom --enable-libbluray --enable-libdav1d --enable-libmp3lame --enable-libopus --enable-librav1e --enable-librist --enable-librubberband --enable-libsnappy --enable-libsrt --enable-libtesseract --enable-libtheora --enable-libvidstab --enable-libvmaf --enable-libvorbis --enable-libvpx --enable-libwebp --enable-libx264 --enable-libx265 --enable-libxml2 --enable-libxvid --enable-lzma --enable-libfontconfig --enable-libfreetype --enable-frei0r --enable-libass --enable-libopencore-amrnb --enable-libopencore-amrwb --enable-libopenjpeg --enable-libspeex --enable-libsoxr --enable-libzmq --enable-libzimg --disable-libjack --disable-indev=jack --enable-videotoolbox\n",
      "  libavutil      57. 17.100 / 57. 17.100\n",
      "  libavcodec     59. 18.100 / 59. 18.100\n",
      "  libavformat    59. 16.100 / 59. 16.100\n",
      "  libavdevice    59.  4.100 / 59.  4.100\n",
      "  libavfilter     8. 24.100 /  8. 24.100\n",
      "  libswscale      6.  4.100 /  6.  4.100\n",
      "  libswresample   4.  3.100 /  4.  3.100\n",
      "  libpostproc    56.  3.100 / 56.  3.100\n",
      "Input #0, mp3, from 'audio.mp3':\n",
      "  Metadata:\n",
      "    Software        : Lavf58.29.100\n",
      "  Duration: 00:02:30.13, start: 0.025057, bitrate: 320 kb/s\n",
      "  Stream #0:0: Audio: mp3, 44100 Hz, stereo, fltp, 320 kb/s\n",
      "    Metadata:\n",
      "      encoder         : LAME3.100\n",
      "Stream mapping:\n",
      "  Stream #0:0 -> #0:0 (mp3 (mp3float) -> pcm_s16le (native))\n",
      "Press [q] to stop, [?] for help\n",
      "Output #0, wav, to 'audio.wav':\n",
      "  Metadata:\n",
      "    Software        : Lavf58.29.100\n",
      "    ISFT            : Lavf59.16.100\n",
      "  Stream #0:0: Audio: pcm_s16le ([1][0][0][0] / 0x0001), 44100 Hz, mono, s16, 705 kb/s\n",
      "    Metadata:\n",
      "      encoder         : Lavc59.18.100 pcm_s16le\n",
      "size=   12927kB time=00:02:30.08 bitrate= 705.6kbits/s speed= 697x        \n",
      "video:0kB audio:12927kB subtitle:0kB other streams:0kB global headers:0kB muxing overhead: 0.000589%\n"
     ]
    }
   ],
   "source": [
    "!ffmpeg -y -i {file_input} -vn -acodec pcm_s16le -ac 1 -f wav {file_input_wav}"
   ]
  },
  {
   "cell_type": "code",
   "execution_count": 6,
   "metadata": {},
   "outputs": [],
   "source": [
    "#ipd.Audio(file_input) # input audio"
   ]
  },
  {
   "cell_type": "code",
   "execution_count": 7,
   "metadata": {},
   "outputs": [
    {
     "name": "stderr",
     "output_type": "stream",
     "text": [
      "2022-09-14 11:48:59 | WARNING  | DF | Audio sampling rate does not match model sampling rate (44100, 48000). Resampling...\n"
     ]
    }
   ],
   "source": [
    "df_sr = ModelParams().sr # sample rate of the model\n",
    "audio, meta = load_audio(file_input_wav, df_sr) # load audio with metadata\n",
    "audio = enhance(model, df_state, audio)\n",
    "audio = resample(audio, df_sr, meta.sample_rate)\n",
    "save_audio(file_output, audio, sr=meta.sample_rate)"
   ]
  },
  {
   "cell_type": "code",
   "execution_count": null,
   "metadata": {},
   "outputs": [],
   "source": [
    "#ipd.Audio(file_output) # output audio"
   ]
  }
 ],
 "metadata": {
  "kernelspec": {
   "display_name": "Python 3.9.13 ('venv': venv)",
   "language": "python",
   "name": "python3"
  },
  "language_info": {
   "codemirror_mode": {
    "name": "ipython",
    "version": 3
   },
   "file_extension": ".py",
   "mimetype": "text/x-python",
   "name": "python",
   "nbconvert_exporter": "python",
   "pygments_lexer": "ipython3",
   "version": "3.9.13"
  },
  "orig_nbformat": 4,
  "vscode": {
   "interpreter": {
    "hash": "a455cb53397c3f41ce426a6718a12ad4543235948ab16a47f2a2d4238dfa2d39"
   }
  }
 },
 "nbformat": 4,
 "nbformat_minor": 2
}
